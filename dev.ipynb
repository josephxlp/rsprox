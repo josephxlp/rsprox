{
 "cells": [
  {
   "cell_type": "code",
   "execution_count": 2,
   "metadata": {},
   "outputs": [],
   "source": [
    "import os"
   ]
  },
  {
   "cell_type": "code",
   "execution_count": 3,
   "metadata": {},
   "outputs": [
    {
     "data": {
      "text/plain": [
       "['N09E105',\n",
       " 'N09E106',\n",
       " 'N10E104',\n",
       " 'N10E105',\n",
       " 'N10E106',\n",
       " 'N11E104',\n",
       " 'N11E105',\n",
       " 'N12E103',\n",
       " 'N12E104',\n",
       " 'N12E105',\n",
       " 'N13E103',\n",
       " 'N13E104',\n",
       " 'N13E105',\n",
       " 'S01W063',\n",
       " 'S01W064',\n",
       " 'S02W063',\n",
       " 'S02W064']"
      ]
     },
     "execution_count": 3,
     "metadata": {},
     "output_type": "execute_result"
    }
   ],
   "source": [
    "os.listdir('/media/ljp238/12TBWolf/RSDATA/data/SENTINEL1/')"
   ]
  },
  {
   "cell_type": "code",
   "execution_count": 5,
   "metadata": {},
   "outputs": [],
   "source": [
    "from upaths import SENTINEL1_DPATH, SENTINEL2_DPATH\n",
    "from glob import glob"
   ]
  },
  {
   "cell_type": "code",
   "execution_count": 7,
   "metadata": {},
   "outputs": [
    {
     "name": "stdout",
     "output_type": "stream",
     "text": [
      "21888\n",
      "22032\n"
     ]
    }
   ],
   "source": [
    "s1_files =  glob(f'{SENTINEL1_DPATH}/*/*.tif', recursive=True); print(len(s1_files))\n",
    "s2_files =  glob(f'{SENTINEL2_DPATH}/*/*.tif', recursive=True); print(len(s2_files))"
   ]
  },
  {
   "cell_type": "code",
   "execution_count": null,
   "metadata": {},
   "outputs": [],
   "source": []
  }
 ],
 "metadata": {
  "kernelspec": {
   "display_name": "automl",
   "language": "python",
   "name": "python3"
  },
  "language_info": {
   "codemirror_mode": {
    "name": "ipython",
    "version": 3
   },
   "file_extension": ".py",
   "mimetype": "text/x-python",
   "name": "python",
   "nbconvert_exporter": "python",
   "pygments_lexer": "ipython3",
   "version": "3.11.0"
  }
 },
 "nbformat": 4,
 "nbformat_minor": 2
}
